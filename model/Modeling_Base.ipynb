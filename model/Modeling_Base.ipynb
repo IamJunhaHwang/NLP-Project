{
 "cells": [
  {
   "cell_type": "markdown",
   "id": "2cdb4c83",
   "metadata": {},
   "source": [
    "## import modules"
   ]
  },
  {
   "cell_type": "code",
   "execution_count": 4,
   "id": "13dc9261",
   "metadata": {
    "ExecuteTime": {
     "end_time": "2022-12-02T10:11:37.052873Z",
     "start_time": "2022-12-02T10:11:37.049251Z"
    }
   },
   "outputs": [],
   "source": [
    "from tqdm import tqdm\n",
    "import re\n",
    "import torch\n",
    "import os"
   ]
  },
  {
   "cell_type": "code",
   "execution_count": 5,
   "id": "ce41cb2d",
   "metadata": {
    "ExecuteTime": {
     "end_time": "2022-12-02T10:11:43.207497Z",
     "start_time": "2022-12-02T10:11:43.132175Z"
    }
   },
   "outputs": [
    {
     "name": "stdout",
     "output_type": "stream",
     "text": [
      "Device: <class 'torch.cuda.device'>\n",
      "Count of using GPUs: 2\n",
      "Current cuda device: 0\n"
     ]
    }
   ],
   "source": [
    "# os.environ['CUDA_LAUNCH_BLOCKING'] = \"1\"  # 디버깅 위한 세팅\n",
    "# os.environ[\"CUDA_VISIBLE_DEVICES\"] = \"0\"\n",
    "\n",
    "print('Device:', torch.cuda.device)  # 출력결과: cuda \n",
    "print('Count of using GPUs:', torch.cuda.device_count())   \n",
    "print('Current cuda device:', torch.cuda.current_device()) "
   ]
  },
  {
   "cell_type": "markdown",
   "id": "60710e07",
   "metadata": {
    "ExecuteTime": {
     "end_time": "2022-12-02T10:11:57.190753Z",
     "start_time": "2022-12-02T10:11:57.186018Z"
    }
   },
   "source": [
    "### Load Data\n",
    "Data가 위치한 PATH에서 Data를 불러오기"
   ]
  },
  {
   "cell_type": "code",
   "execution_count": 7,
   "id": "f3d7a669",
   "metadata": {
    "ExecuteTime": {
     "end_time": "2022-12-02T10:12:05.744900Z",
     "start_time": "2022-12-02T10:12:05.737210Z"
    }
   },
   "outputs": [],
   "source": [
    "def jsonload(fname, encoding=\"utf-8\"):\n",
    "    with open(fname, encoding=encoding) as f:\n",
    "        j = json.load(f)\n",
    "\n",
    "    return j\n",
    "\n",
    "# json 개체를 파일이름으로 깔끔하게 저장\n",
    "def jsondump(j, fname):\n",
    "    with open(fname, \"w\", encoding=\"UTF8\") as f:\n",
    "        json.dump(j, f, ensure_ascii=False)\n",
    "\n",
    "# jsonl 파일 읽어서 list에 저장\n",
    "def jsonlload(fname, encoding=\"utf-8\"):\n",
    "    json_list = []\n",
    "    with open(fname, encoding=encoding) as f:\n",
    "        for line in f.readlines():\n",
    "            json_list.append(json.loads(line))\n",
    "    return json_list"
   ]
  },
  {
   "cell_type": "code",
   "execution_count": 8,
   "id": "4a0faad3",
   "metadata": {
    "ExecuteTime": {
     "end_time": "2022-12-02T10:12:21.369441Z",
     "start_time": "2022-12-02T10:12:21.271243Z"
    }
   },
   "outputs": [],
   "source": [
    "train_data = jsonlload('nikluge-sa-2022-train.jsonl')\n",
    "dev_data = jsonlload('nikluge-sa-2022-dev.jsonl')"
   ]
  },
  {
   "cell_type": "code",
   "execution_count": null,
   "id": "b11bf404",
   "metadata": {},
   "outputs": [],
   "source": []
  }
 ],
 "metadata": {
  "kernelspec": {
   "display_name": "Python 3 - tf",
   "language": "python",
   "name": "python3-tf"
  },
  "language_info": {
   "codemirror_mode": {
    "name": "ipython",
    "version": 3
   },
   "file_extension": ".py",
   "mimetype": "text/x-python",
   "name": "python",
   "nbconvert_exporter": "python",
   "pygments_lexer": "ipython3",
   "version": "3.8.10"
  },
  "varInspector": {
   "cols": {
    "lenName": 16,
    "lenType": 16,
    "lenVar": 40
   },
   "kernels_config": {
    "python": {
     "delete_cmd_postfix": "",
     "delete_cmd_prefix": "del ",
     "library": "var_list.py",
     "varRefreshCmd": "print(var_dic_list())"
    },
    "r": {
     "delete_cmd_postfix": ") ",
     "delete_cmd_prefix": "rm(",
     "library": "var_list.r",
     "varRefreshCmd": "cat(var_dic_list()) "
    }
   },
   "types_to_exclude": [
    "module",
    "function",
    "builtin_function_or_method",
    "instance",
    "_Feature"
   ],
   "window_display": false
  }
 },
 "nbformat": 4,
 "nbformat_minor": 5
}
